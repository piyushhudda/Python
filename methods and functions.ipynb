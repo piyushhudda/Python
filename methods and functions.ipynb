{
 "cells": [
  {
   "cell_type": "code",
   "execution_count": 2,
   "id": "f9c289e9",
   "metadata": {},
   "outputs": [],
   "source": [
    "mylist = [1,2,3]"
   ]
  },
  {
   "cell_type": "code",
   "execution_count": 3,
   "id": "1089a3b4",
   "metadata": {},
   "outputs": [],
   "source": [
    "mylist.append(4)"
   ]
  },
  {
   "cell_type": "code",
   "execution_count": 4,
   "id": "d311f10e",
   "metadata": {},
   "outputs": [
    {
     "data": {
      "text/plain": [
       "[1, 2, 3, 4]"
      ]
     },
     "execution_count": 4,
     "metadata": {},
     "output_type": "execute_result"
    }
   ],
   "source": [
    "mylist"
   ]
  },
  {
   "cell_type": "code",
   "execution_count": 6,
   "id": "5e4a038e",
   "metadata": {},
   "outputs": [
    {
     "data": {
      "text/plain": [
       "4"
      ]
     },
     "execution_count": 6,
     "metadata": {},
     "output_type": "execute_result"
    }
   ],
   "source": [
    "mylist.pop()"
   ]
  },
  {
   "cell_type": "code",
   "execution_count": 7,
   "id": "96469ec5",
   "metadata": {},
   "outputs": [
    {
     "data": {
      "text/plain": [
       "[1, 2, 3]"
      ]
     },
     "execution_count": 7,
     "metadata": {},
     "output_type": "execute_result"
    }
   ],
   "source": [
    "mylist"
   ]
  },
  {
   "cell_type": "code",
   "execution_count": 8,
   "id": "9487e581",
   "metadata": {},
   "outputs": [
    {
     "name": "stdout",
     "output_type": "stream",
     "text": [
      "Help on built-in function insert:\n",
      "\n",
      "insert(index, object, /) method of builtins.list instance\n",
      "    Insert object before index.\n",
      "\n"
     ]
    }
   ],
   "source": [
    "help(mylist.insert)"
   ]
  },
  {
   "cell_type": "code",
   "execution_count": 1,
   "id": "b0802504",
   "metadata": {},
   "outputs": [],
   "source": [
    "#work"
   ]
  },
  {
   "cell_type": "code",
   "execution_count": 1,
   "id": "d282a19a",
   "metadata": {},
   "outputs": [],
   "source": [
    "def vol(rad):\n",
    "    print(\"volume is equal to\",(4/3)*(3.14)*rad**3)"
   ]
  },
  {
   "cell_type": "code",
   "execution_count": 2,
   "id": "d239d15e",
   "metadata": {},
   "outputs": [
    {
     "name": "stdout",
     "output_type": "stream",
     "text": [
      "volume is equal to 33.49333333333333\n"
     ]
    }
   ],
   "source": [
    "vol(2)"
   ]
  },
  {
   "cell_type": "code",
   "execution_count": 5,
   "id": "2b9e98fd",
   "metadata": {},
   "outputs": [
    {
     "data": {
      "text/plain": [
       "False"
      ]
     },
     "execution_count": 5,
     "metadata": {},
     "output_type": "execute_result"
    }
   ],
   "source": [
    "5 in range(0,5)"
   ]
  },
  {
   "cell_type": "code",
   "execution_count": 10,
   "id": "ae19332c",
   "metadata": {},
   "outputs": [],
   "source": [
    "def ran_check(num,low,high):\n",
    "    if num in range(low,high+1):\n",
    "        print(f'{num} is in the range of {low} and {high}')\n",
    "    else:\n",
    "        print('not in range')"
   ]
  },
  {
   "cell_type": "code",
   "execution_count": 11,
   "id": "66691bd5",
   "metadata": {},
   "outputs": [
    {
     "name": "stdout",
     "output_type": "stream",
     "text": [
      "5 is in the range of 2 and 7\n"
     ]
    }
   ],
   "source": [
    "ran_check(5,2,7)"
   ]
  },
  {
   "cell_type": "code",
   "execution_count": 12,
   "id": "bc2f06cc",
   "metadata": {},
   "outputs": [],
   "source": [
    "def up_low(s):\n",
    "    lowercase = 0\n",
    "    uppercase = 0\n",
    "    \n",
    "    for char in s:\n",
    "        if char.isupper():\n",
    "            uppercase+=1\n",
    "        elif char.islower():\n",
    "            lowercase+=1\n",
    "        else:\n",
    "            pass\n",
    "        \n",
    "    print(f'original string: {s}')\n",
    "    print(f'lower case count: {lowercase}')\n",
    "    print(f'upper case count: {uppercase}')"
   ]
  },
  {
   "cell_type": "code",
   "execution_count": 13,
   "id": "79e7cc43",
   "metadata": {},
   "outputs": [
    {
     "name": "stdout",
     "output_type": "stream",
     "text": [
      "original string: Hello Mr. Rogers, how are  you this fine Tuesday?\n",
      "lower case count: 33\n",
      "upper case count: 4\n"
     ]
    }
   ],
   "source": [
    "up_low('Hello Mr. Rogers, how are  you this fine Tuesday?')"
   ]
  },
  {
   "cell_type": "code",
   "execution_count": 16,
   "id": "f130bee4",
   "metadata": {},
   "outputs": [],
   "source": [
    "def unique_list(lst):\n",
    "    return list(set(lst))"
   ]
  },
  {
   "cell_type": "code",
   "execution_count": 17,
   "id": "4ea4a420",
   "metadata": {},
   "outputs": [
    {
     "data": {
      "text/plain": [
       "[1, 2, 3, 4, 5]"
      ]
     },
     "execution_count": 17,
     "metadata": {},
     "output_type": "execute_result"
    }
   ],
   "source": [
    "unique_list([1,1,1,1,2,2,2,2,3,3,3,4,5])"
   ]
  },
  {
   "cell_type": "code",
   "execution_count": 22,
   "id": "8c353837",
   "metadata": {},
   "outputs": [],
   "source": [
    "def multiply(numbers):\n",
    "    total = 1\n",
    "    for num in numbers:\n",
    "        total = total*num\n",
    "    return total"
   ]
  },
  {
   "cell_type": "code",
   "execution_count": 24,
   "id": "2f9c78fe",
   "metadata": {},
   "outputs": [
    {
     "data": {
      "text/plain": [
       "-240"
      ]
     },
     "execution_count": 24,
     "metadata": {},
     "output_type": "execute_result"
    }
   ],
   "source": [
    "multiply([1,2,3,-4,10])"
   ]
  },
  {
   "cell_type": "code",
   "execution_count": 31,
   "id": "5814a066",
   "metadata": {},
   "outputs": [],
   "source": [
    "def palindrome(s):\n",
    "    \n",
    "    s = s.replace(' ','')\n",
    "    return  s == s[::-1]"
   ]
  },
  {
   "cell_type": "code",
   "execution_count": 32,
   "id": "8f167171",
   "metadata": {},
   "outputs": [
    {
     "data": {
      "text/plain": [
       "False"
      ]
     },
     "execution_count": 32,
     "metadata": {},
     "output_type": "execute_result"
    }
   ],
   "source": [
    "palindrome('piyush hudda')"
   ]
  },
  {
   "cell_type": "code",
   "execution_count": 34,
   "id": "e19e0a26",
   "metadata": {},
   "outputs": [
    {
     "data": {
      "text/plain": [
       "True"
      ]
     },
     "execution_count": 34,
     "metadata": {},
     "output_type": "execute_result"
    }
   ],
   "source": [
    "palindrome('nurses run')"
   ]
  },
  {
   "cell_type": "code",
   "execution_count": null,
   "id": "c8b6d176",
   "metadata": {},
   "outputs": [],
   "source": []
  }
 ],
 "metadata": {
  "kernelspec": {
   "display_name": "Python 3 (ipykernel)",
   "language": "python",
   "name": "python3"
  },
  "language_info": {
   "codemirror_mode": {
    "name": "ipython",
    "version": 3
   },
   "file_extension": ".py",
   "mimetype": "text/x-python",
   "name": "python",
   "nbconvert_exporter": "python",
   "pygments_lexer": "ipython3",
   "version": "3.9.13"
  }
 },
 "nbformat": 4,
 "nbformat_minor": 5
}
